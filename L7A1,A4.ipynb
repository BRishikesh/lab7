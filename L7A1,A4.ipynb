{
 "cells": [
  {
   "cell_type": "code",
   "execution_count": 1,
   "id": "2b93929d",
   "metadata": {
    "scrolled": true
   },
   "outputs": [
    {
     "name": "stdout",
     "output_type": "stream",
     "text": [
      "Support Vectors =[[ 0.03070907 -0.02209196]\n",
      " [ 0.03275871 -0.01923567]\n",
      " [ 0.01933293 -0.01982133]\n",
      " ...\n",
      " [ 0.00178153 -0.02775614]\n",
      " [ 0.01788159 -0.03179619]\n",
      " [ 0.01852727 -0.04052124]]\n",
      "Accuracy of the SVM on the test set: 0.4666666666666667\n",
      "The predicted class for the test vector: [1]\n"
     ]
    },
    {
     "name": "stderr",
     "output_type": "stream",
     "text": [
      "C:\\Users\\rishi\\anaconda3\\Lib\\site-packages\\sklearn\\base.py:464: UserWarning: X does not have valid feature names, but SVC was fitted with feature names\n",
      "  warnings.warn(\n"
     ]
    },
    {
     "ename": "ValueError",
     "evalue": "The truth value of an array with more than one element is ambiguous. Use a.any() or a.all()",
     "output_type": "error",
     "traceback": [
      "\u001b[1;31m---------------------------------------------------------------------------\u001b[0m",
      "\u001b[1;31mValueError\u001b[0m                                Traceback (most recent call last)",
      "Cell \u001b[1;32mIn[1], line 48\u001b[0m\n\u001b[0;32m     46\u001b[0m correct_predictions \u001b[38;5;241m=\u001b[39m \u001b[38;5;241m0\u001b[39m\n\u001b[0;32m     47\u001b[0m \u001b[38;5;28;01mfor\u001b[39;00m i \u001b[38;5;129;01min\u001b[39;00m \u001b[38;5;28mrange\u001b[39m(\u001b[38;5;28mlen\u001b[39m(predictions)):\n\u001b[1;32m---> 48\u001b[0m     \u001b[38;5;28;01mif\u001b[39;00m (predictions[i] \u001b[38;5;241m==\u001b[39m \u001b[38;5;241m1\u001b[39m \u001b[38;5;129;01mand\u001b[39;00m decision_values[i] \u001b[38;5;241m>\u001b[39m \u001b[38;5;241m0\u001b[39m) \u001b[38;5;129;01mor\u001b[39;00m (predictions[i] \u001b[38;5;241m==\u001b[39m \u001b[38;5;241m0\u001b[39m \u001b[38;5;129;01mand\u001b[39;00m decision_values[i] \u001b[38;5;241m<\u001b[39m \u001b[38;5;241m0\u001b[39m):\n\u001b[0;32m     49\u001b[0m         correct_predictions \u001b[38;5;241m+\u001b[39m\u001b[38;5;241m=\u001b[39m \u001b[38;5;241m1\u001b[39m\n\u001b[0;32m     51\u001b[0m accuracy \u001b[38;5;241m=\u001b[39m correct_predictions \u001b[38;5;241m/\u001b[39m \u001b[38;5;28mlen\u001b[39m(y_test)\n",
      "\u001b[1;31mValueError\u001b[0m: The truth value of an array with more than one element is ambiguous. Use a.any() or a.all()"
     ]
    }
   ],
   "source": [
    "import pandas as pd\n",
    "from sklearn.model_selection import train_test_split\n",
    "from sklearn.svm import SVC\n",
    "\n",
    "# Load the dataset\n",
    "data = pd.read_excel('embeddingsdata.xlsx')\n",
    "\n",
    "# 'embed_0' and 'embed_1' are the features and 'Label' is the target variable\n",
    "features = data[['embed_264', 'embed_265']]\n",
    "target = data['Label']\n",
    "\n",
    "# Split the data into training and testing sets\n",
    "X_train, X_test, y_train, y_test = train_test_split(features, target, test_size=0.2, random_state=42)\n",
    "\n",
    "# Initialize and train the Support Vector Machine (SVM) model\n",
    "clf = SVC()\n",
    "clf.fit(X_train, y_train)\n",
    "\n",
    "# Get the support vectors\n",
    "support_vectors = clf.support_vectors_\n",
    "\n",
    "# Print the support vectors\n",
    "print(f'Support Vectors ={support_vectors}')\n",
    "\n",
    "#A2\n",
    "\n",
    "# Testing the accuracy of the SVM on the test set\n",
    "accuracy = clf.score(X_test[['embed_264', 'embed_265']], y_test)\n",
    "print(f\"Accuracy of the SVM on the test set: {accuracy}\")\n",
    "\n",
    "# Perform classification for the given test vector\n",
    "test_vector = X_test[['embed_264', 'embed_265']].iloc[0] \n",
    "predicted_class = clf.predict([test_vector])\n",
    "print(f\"The predicted class for the test vector: {predicted_class}\")\n",
    "\n",
    "#A3\n",
    "decision_values = clf.decision_function(X_test[['embed_264', 'embed_265']])\n",
    "\n",
    "# Relate the decision values to the class values\n",
    "predictions = clf.predict(X_test[['embed_264', 'embed_265']])\n",
    "\n",
    "# Test the accuracy using your own logic for class determination\n",
    "# Here, we'll simply compare decision values against zero for binary classification\n",
    "# Adjust this logic based on the specifics of your classification problem\n",
    "\n",
    "correct_predictions = 0\n",
    "for i in range(len(predictions)):\n",
    "    if (predictions[i] == 1 and decision_values[i] > 0) or (predictions[i] == 0 and decision_values[i] < 0):\n",
    "        correct_predictions += 1\n",
    "\n",
    "accuracy = correct_predictions / len(y_test)\n",
    "print(f\"Accuracy using decision values: {accuracy}\")"
   ]
  },
  {
   "cell_type": "code",
   "execution_count": 4,
   "id": "4e73efd0",
   "metadata": {},
   "outputs": [
    {
     "name": "stdout",
     "output_type": "stream",
     "text": [
      "Accuracy of the SVM on the test set: 0.4666666666666667\n",
      "The predicted class for the test vector: [1]\n"
     ]
    },
    {
     "name": "stderr",
     "output_type": "stream",
     "text": [
      "C:\\Users\\rishi\\anaconda3\\Lib\\site-packages\\sklearn\\base.py:464: UserWarning: X does not have valid feature names, but SVC was fitted with feature names\n",
      "  warnings.warn(\n"
     ]
    }
   ],
   "source": [
    "# Testing the accuracy of the SVM on the test set\n",
    "accuracy = clf.score(X_test[['embed_264', 'embed_265']], y_test)\n",
    "print(f\"Accuracy of the SVM on the test set: {accuracy}\")\n",
    " \n",
    "# Perform classification for the given test vector\n",
    "test_vector = X_test[['embed_264', 'embed_265']].iloc[0]\n",
    "predicted_class = clf.predict([test_vector])\n",
    "print(f\"The predicted class for the test vector: {predicted_class}\")"
   ]
  },
  {
   "cell_type": "code",
   "execution_count": 6,
   "id": "5a120e6e",
   "metadata": {},
   "outputs": [
    {
     "name": "stdout",
     "output_type": "stream",
     "text": [
      "Support Vectors:\n",
      "[[ 0.03378453 -0.02554135]\n",
      " [ 0.02612458 -0.02942524]\n",
      " [ 0.01935194 -0.00476509]\n",
      " ...\n",
      " [ 0.01852727 -0.04052124]\n",
      " [ 0.01788159 -0.03179619]\n",
      " [ 0.0311823  -0.02128235]]\n",
      "Accuracy: 0.48\n"
     ]
    }
   ],
   "source": [
    "import numpy as np\n",
    "import pandas as pd\n",
    "from sklearn import svm\n",
    "\n",
    "# Read data from the Excel file\n",
    "df = pd.read_excel(\"embeddingsdata.xlsx\")\n",
    "\n",
    "# Extract data from the columns 'embed_0' and 'embed_1' for training\n",
    "X_train = df[['embed_264', 'embed_265']]  # Features\n",
    "y_train = df['Label']  \n",
    "\n",
    "# Create an SVM classifier\n",
    "clf = svm.SVC()\n",
    "\n",
    "# Fit the classifier to the training data\n",
    "clf.fit(X_train, y_train)\n",
    "\n",
    "# Get the support vectors\n",
    "support_vectors = clf.support_vectors_\n",
    "\n",
    "# Now you can study the support vectors\n",
    "print(\"Support Vectors:\")\n",
    "print(support_vectors)\n",
    "\n",
    "\n",
    "\n",
    "# Use the predict() function to get predicted class values for the test set\n",
    "predicted_classes = clf.predict(X_train)\n",
    "\n",
    "# Calculate accuracy by comparing predicted_classes to the actual y_test labels\n",
    "correct_predictions = (predicted_classes == y_train)\n",
    "accuracy = np.mean(correct_predictions)\n",
    "\n",
    "# Print the accuracy\n",
    "print(f\"Accuracy: {accuracy:.2f}\")"
   ]
  },
  {
   "cell_type": "code",
   "execution_count": 8,
   "id": "a4178e3f",
   "metadata": {},
   "outputs": [
    {
     "name": "stdout",
     "output_type": "stream",
     "text": [
      "Accuracy with 'linear' kernel: 0.38\n",
      "Accuracy with 'poly' kernel: 0.45\n",
      "Accuracy with 'rbf' kernel: 0.47\n",
      "Accuracy with 'sigmoid' kernel: 0.41\n"
     ]
    }
   ],
   "source": [
    "import numpy as np\n",
    "import pandas as pd\n",
    "from sklearn import svm\n",
    "from sklearn.model_selection import train_test_split\n",
    "from sklearn.metrics import accuracy_score\n",
    "\n",
    "# Read data from the Excel file\n",
    "df = pd.read_excel(\"embeddingsdata.xlsx\")\n",
    "\n",
    "# Extract features and labels\n",
    "X = df[['embed_264', 'embed_265']]\n",
    "y = df['Label']\n",
    "\n",
    "# Split the data into training and test sets\n",
    "X_train, X_test, y_train, y_test = train_test_split(X, y, test_size=0.2, random_state=42)\n",
    "\n",
    "# List of kernel functions to experiment with\n",
    "kernel_functions = ['linear', 'poly', 'rbf', 'sigmoid']\n",
    "\n",
    "for kernel in kernel_functions:\n",
    "    # Create and train an SVM classifier with the current kernel function\n",
    "    clf = svm.SVC(kernel=kernel).fit(X_train, y_train)\n",
    "\n",
    "    # Use the classifier to make predictions on the test set\n",
    "    y_pred = clf.predict(X_test)\n",
    "\n",
    "    # Calculate and print accuracy for the current kernel\n",
    "    accuracy = accuracy_score(y_test, y_pred)\n",
    "    print(f\"Accuracy with '{kernel}' kernel: {accuracy:.2f}\")\n"
   ]
  },
  {
   "cell_type": "code",
   "execution_count": null,
   "id": "73625317",
   "metadata": {},
   "outputs": [],
   "source": []
  }
 ],
 "metadata": {
  "kernelspec": {
   "display_name": "Python 3 (ipykernel)",
   "language": "python",
   "name": "python3"
  },
  "language_info": {
   "codemirror_mode": {
    "name": "ipython",
    "version": 3
   },
   "file_extension": ".py",
   "mimetype": "text/x-python",
   "name": "python",
   "nbconvert_exporter": "python",
   "pygments_lexer": "ipython3",
   "version": "3.11.4"
  }
 },
 "nbformat": 4,
 "nbformat_minor": 5
}
